{
 "cells": [
  {
   "cell_type": "markdown",
   "metadata": {},
   "source": [
    "# Assignment 7"
   ]
  },
  {
   "cell_type": "code",
   "execution_count": 51,
   "metadata": {},
   "outputs": [],
   "source": [
    "\n",
    "from scipy import stats\n",
    "import numpy as np\n",
    "import pandas as pd\n",
    "import matplotlib.pyplot as plt\n",
    "import seaborn as sns\n",
    "%matplotlib inline\n",
    "import warnings\n",
    "warnings.filterwarnings(\"ignore\")\n",
    "from collections import Counter\n",
    "# data preprocessing\n",
    "from sklearn.preprocessing import StandardScaler\n",
    "# data splitting\n",
    "from sklearn.model_selection import train_test_split\n",
    "# data modeling\n",
    "from sklearn.metrics import confusion_matrix,accuracy_score,roc_curve,classification_report\n",
    "from sklearn.linear_model import LogisticRegression\n",
    "from sklearn.naive_bayes import GaussianNB\n",
    "from sklearn.ensemble import RandomForestClassifier\n",
    "from sklearn.tree import DecisionTreeClassifier\n",
    "from sklearn.neighbors import KNeighborsClassifier\n",
    "from sklearn.naive_bayes import GaussianNB\n",
    "from sklearn.linear_model import LinearRegression\n",
    "from sklearn.svm import SVC"
   ]
  },
  {
   "cell_type": "code",
   "execution_count": 2,
   "metadata": {},
   "outputs": [
    {
     "name": "stdout",
     "output_type": "stream",
     "text": [
      "<class 'pandas.core.frame.DataFrame'>\n",
      "RangeIndex: 1338 entries, 0 to 1337\n",
      "Data columns (total 7 columns):\n",
      " #   Column    Non-Null Count  Dtype  \n",
      "---  ------    --------------  -----  \n",
      " 0   age       1338 non-null   int64  \n",
      " 1   sex       1338 non-null   object \n",
      " 2   bmi       1338 non-null   float64\n",
      " 3   children  1338 non-null   int64  \n",
      " 4   smoker    1338 non-null   object \n",
      " 5   region    1338 non-null   object \n",
      " 6   charges   1338 non-null   float64\n",
      "dtypes: float64(2), int64(2), object(3)\n",
      "memory usage: 73.3+ KB\n"
     ]
    }
   ],
   "source": [
    "df_insuarance = pd.read_csv('insurance.csv')\n",
    "df_insuarance.info()"
   ]
  },
  {
   "cell_type": "code",
   "execution_count": 3,
   "metadata": {},
   "outputs": [
    {
     "data": {
      "text/plain": [
       "age           int64\n",
       "sex          object\n",
       "bmi         float64\n",
       "children      int64\n",
       "smoker       object\n",
       "region       object\n",
       "charges     float64\n",
       "dtype: object"
      ]
     },
     "execution_count": 3,
     "metadata": {},
     "output_type": "execute_result"
    }
   ],
   "source": [
    "df_insuarance.dtypes"
   ]
  },
  {
   "cell_type": "code",
   "execution_count": 4,
   "metadata": {},
   "outputs": [
    {
     "data": {
      "text/html": [
       "<div>\n",
       "<style scoped>\n",
       "    .dataframe tbody tr th:only-of-type {\n",
       "        vertical-align: middle;\n",
       "    }\n",
       "\n",
       "    .dataframe tbody tr th {\n",
       "        vertical-align: top;\n",
       "    }\n",
       "\n",
       "    .dataframe thead th {\n",
       "        text-align: right;\n",
       "    }\n",
       "</style>\n",
       "<table border=\"1\" class=\"dataframe\">\n",
       "  <thead>\n",
       "    <tr style=\"text-align: right;\">\n",
       "      <th></th>\n",
       "      <th>age</th>\n",
       "      <th>bmi</th>\n",
       "      <th>children</th>\n",
       "      <th>charges</th>\n",
       "    </tr>\n",
       "  </thead>\n",
       "  <tbody>\n",
       "    <tr>\n",
       "      <th>count</th>\n",
       "      <td>1338.000000</td>\n",
       "      <td>1338.000000</td>\n",
       "      <td>1338.000000</td>\n",
       "      <td>1338.000000</td>\n",
       "    </tr>\n",
       "    <tr>\n",
       "      <th>mean</th>\n",
       "      <td>39.207025</td>\n",
       "      <td>30.663397</td>\n",
       "      <td>1.094918</td>\n",
       "      <td>13270.422265</td>\n",
       "    </tr>\n",
       "    <tr>\n",
       "      <th>std</th>\n",
       "      <td>14.049960</td>\n",
       "      <td>6.098187</td>\n",
       "      <td>1.205493</td>\n",
       "      <td>12110.011237</td>\n",
       "    </tr>\n",
       "    <tr>\n",
       "      <th>min</th>\n",
       "      <td>18.000000</td>\n",
       "      <td>15.960000</td>\n",
       "      <td>0.000000</td>\n",
       "      <td>1121.873900</td>\n",
       "    </tr>\n",
       "    <tr>\n",
       "      <th>25%</th>\n",
       "      <td>27.000000</td>\n",
       "      <td>26.296250</td>\n",
       "      <td>0.000000</td>\n",
       "      <td>4740.287150</td>\n",
       "    </tr>\n",
       "    <tr>\n",
       "      <th>50%</th>\n",
       "      <td>39.000000</td>\n",
       "      <td>30.400000</td>\n",
       "      <td>1.000000</td>\n",
       "      <td>9382.033000</td>\n",
       "    </tr>\n",
       "    <tr>\n",
       "      <th>75%</th>\n",
       "      <td>51.000000</td>\n",
       "      <td>34.693750</td>\n",
       "      <td>2.000000</td>\n",
       "      <td>16639.912515</td>\n",
       "    </tr>\n",
       "    <tr>\n",
       "      <th>max</th>\n",
       "      <td>64.000000</td>\n",
       "      <td>53.130000</td>\n",
       "      <td>5.000000</td>\n",
       "      <td>63770.428010</td>\n",
       "    </tr>\n",
       "  </tbody>\n",
       "</table>\n",
       "</div>"
      ],
      "text/plain": [
       "               age          bmi     children       charges\n",
       "count  1338.000000  1338.000000  1338.000000   1338.000000\n",
       "mean     39.207025    30.663397     1.094918  13270.422265\n",
       "std      14.049960     6.098187     1.205493  12110.011237\n",
       "min      18.000000    15.960000     0.000000   1121.873900\n",
       "25%      27.000000    26.296250     0.000000   4740.287150\n",
       "50%      39.000000    30.400000     1.000000   9382.033000\n",
       "75%      51.000000    34.693750     2.000000  16639.912515\n",
       "max      64.000000    53.130000     5.000000  63770.428010"
      ]
     },
     "execution_count": 4,
     "metadata": {},
     "output_type": "execute_result"
    }
   ],
   "source": [
    "df_insuarance.describe()"
   ]
  },
  {
   "cell_type": "markdown",
   "metadata": {},
   "source": [
    "Considering the target column is continous in nature, a regression approach is requred in conducting predictive analysis on the data."
   ]
  },
  {
   "cell_type": "code",
   "execution_count": 5,
   "metadata": {
    "scrolled": false
   },
   "outputs": [
    {
     "data": {
      "text/plain": [
       "<AxesSubplot:ylabel='Frequency'>"
      ]
     },
     "execution_count": 5,
     "metadata": {},
     "output_type": "execute_result"
    },
    {
     "data": {
      "image/png": "[encoded data removed]",
      "text/plain": [
       "<Figure size 864x576 with 1 Axes>"
      ]
     },
     "metadata": {
      "needs_background": "light"
     },
     "output_type": "display_data"
    }
   ],
   "source": [
    "df_insuarance['age'].plot(kind = 'hist', figsize = (12, 8), bins = 100)"
   ]
  },
  {
   "cell_type": "markdown",
   "metadata": {},
   "source": [
    "Majority of the individuals captured in the data are below 20 years of age. As from 30 to 70 years of age, there was a balance of the individuals in the data."
   ]
  },
  {
   "cell_type": "code",
   "execution_count": 6,
   "metadata": {},
   "outputs": [
    {
     "data": {
      "text/plain": [
       "['age', 'bmi']"
      ]
     },
     "execution_count": 6,
     "metadata": {},
     "output_type": "execute_result"
    }
   ],
   "source": [
    "numerical_continuous = []\n",
    "for column in df_insuarance.columns:\n",
    "    if df_insuarance[column].dtypes != 'object':\n",
    "        if df_insuarance[column].nunique() >= 10:\n",
    "            numerical_continuous.append(column)\n",
    "numerical_continuous.remove('charges')\n",
    "numerical_continuous"
   ]
  },
  {
   "cell_type": "code",
   "execution_count": 7,
   "metadata": {},
   "outputs": [
    {
     "data": {
      "text/plain": [
       "['children']"
      ]
     },
     "execution_count": 7,
     "metadata": {},
     "output_type": "execute_result"
    }
   ],
   "source": [
    "numerical_discrete = []\n",
    "for column in df_insuarance.columns:\n",
    "    if df_insuarance[column].dtypes != 'object':\n",
    "        if df_insuarance[column].nunique() < 10:\n",
    "            numerical_discrete.append(column)\n",
    "numerical_discrete"
   ]
  },
  {
   "cell_type": "code",
   "execution_count": 8,
   "metadata": {
    "scrolled": false
   },
   "outputs": [
    {
     "data": {
      "text/plain": [
       "<AxesSubplot:>"
      ]
     },
     "execution_count": 8,
     "metadata": {},
     "output_type": "execute_result"
    },
    {
     "data": {
      "image/png": "[encoded data removed]",
      "text/plain": [
       "<Figure size 864x576 with 1 Axes>"
      ]
     },
     "metadata": {
      "needs_background": "light"
     },
     "output_type": "display_data"
    }
   ],
   "source": [
    "df_insuarance[numerical_continuous].plot(kind = 'box', figsize = (12, 8))"
   ]
  },
  {
   "cell_type": "code",
   "execution_count": 9,
   "metadata": {},
   "outputs": [
    {
     "data": {
      "text/plain": [
       "<AxesSubplot:>"
      ]
     },
     "execution_count": 9,
     "metadata": {},
     "output_type": "execute_result"
    },
    {
     "data": {
      "image/png": "[encoded data removed]",
      "text/plain": [
       "<Figure size 864x576 with 1 Axes>"
      ]
     },
     "metadata": {
      "needs_background": "light"
     },
     "output_type": "display_data"
    }
   ],
   "source": [
    "threshold = 0.3705\n",
    "zscore = np.abs(stats.zscore(df_insuarance[['bmi']]))\n",
    "df_insuarance[(zscore > threshold).all(axis=1)][numerical_continuous].plot(kind = 'box', figsize = (12, 8))"
   ]
  },
  {
   "cell_type": "code",
   "execution_count": 10,
   "metadata": {},
   "outputs": [],
   "source": [
    "df_insuarance = df_insuarance[(zscore > threshold).all(axis = 1)]"
   ]
  },
  {
   "cell_type": "code",
   "execution_count": 11,
   "metadata": {},
   "outputs": [
    {
     "data": {
      "text/plain": [
       "['sex', 'smoker', 'region']"
      ]
     },
     "execution_count": 11,
     "metadata": {},
     "output_type": "execute_result"
    }
   ],
   "source": [
    "categorical = []\n",
    "for column in df_insuarance.columns:\n",
    "    if df_insuarance[column].dtypes == 'object':\n",
    "        categorical.append(column)\n",
    "categorical"
   ]
  },
  {
   "cell_type": "code",
   "execution_count": 12,
   "metadata": {},
   "outputs": [
    {
     "data": {
      "image/png": "[encoded data removed]",
      "text/plain": [
       "<Figure size 432x288 with 1 Axes>"
      ]
     },
     "metadata": {
      "needs_background": "light"
     },
     "output_type": "display_data"
    },
    {
     "data": {
      "image/png": "[encoded data removed]",
      "text/plain": [
       "<Figure size 432x288 with 1 Axes>"
      ]
     },
     "metadata": {
      "needs_background": "light"
     },
     "output_type": "display_data"
    },
    {
     "data": {
      "image/png": "[encoded data removed]",
      "text/plain": [
       "<Figure size 432x288 with 1 Axes>"
      ]
     },
     "metadata": {
      "needs_background": "light"
     },
     "output_type": "display_data"
    },
    {
     "data": {
      "image/png": "[encoded data removed]",
      "text/plain": [
       "<Figure size 432x288 with 1 Axes>"
      ]
     },
     "metadata": {
      "needs_background": "light"
     },
     "output_type": "display_data"
    }
   ],
   "source": [
    "import matplotlib.pyplot as plt\n",
    "for column in numerical_discrete + categorical:\n",
    "    (df_insuarance[column].value_counts()/df_insuarance[column].shape[0]).plot(kind = 'bar')\n",
    "    plt.title(column)\n",
    "    plt.show()"
   ]
  },
  {
   "cell_type": "code",
   "execution_count": 13,
   "metadata": {},
   "outputs": [],
   "source": [
    "df_insuarance['children'] = df_insuarance['children'].replace([3, 4, 5], 'Rare')"
   ]
  },
  {
   "cell_type": "code",
   "execution_count": 14,
   "metadata": {},
   "outputs": [],
   "source": [
    "#mode\n",
    "#mean\n",
    "#median\n",
    "\n",
    "encoded_features = {}\n",
    "for column in numerical_discrete + categorical:\n",
    "    encoded_features[column] = df_insuarance.groupby([column])['charges'].median().to_dict()\n",
    "    df_insuarance[column] = df_insuarance[column].map(encoded_features[column])"
   ]
  },
  {
   "cell_type": "code",
   "execution_count": 15,
   "metadata": {
    "scrolled": true
   },
   "outputs": [
    {
     "data": {
      "text/plain": [
       "{'children': {0: 9644.2525, 1: 8539.671, 2: 9954.0544, 'Rare': 10977.2063},\n",
       " 'sex': {'female': 9639.395250000001, 'male': 9391.346},\n",
       " 'smoker': {'no': 7345.4053, 'yes': 29330.98315},\n",
       " 'region': {'northeast': 9661.16525,\n",
       "  'northwest': 9301.89355,\n",
       "  'southeast': 9768.88825,\n",
       "  'southwest': 9328.071499999998}}"
      ]
     },
     "execution_count": 15,
     "metadata": {},
     "output_type": "execute_result"
    }
   ],
   "source": [
    "encoded_features"
   ]
  },
  {
   "cell_type": "code",
   "execution_count": 16,
   "metadata": {},
   "outputs": [],
   "source": [
    "X = df_insuarance.drop('charges', axis = 1)\n",
    "y = df_insuarance['charges']"
   ]
  },
  {
   "cell_type": "code",
   "execution_count": 18,
   "metadata": {},
   "outputs": [
    {
     "name": "stdout",
     "output_type": "stream",
     "text": [
      "age          True\n",
      "sex          True\n",
      "bmi          True\n",
      "children    False\n",
      "smoker       True\n",
      "region       True\n",
      "dtype: bool\n"
     ]
    }
   ],
   "source": [
    "from sklearn.linear_model import LinearRegression\n",
    "from sklearn.feature_selection import RFE\n",
    "\n",
    "model = LinearRegression()\n",
    "rfe = RFE(model, 5)\n",
    "X_rfe = rfe.fit_transform(X, y)  \n",
    "model.fit(X_rfe, y)\n",
    "print(pd.Series(rfe.support_, index = X.columns))"
   ]
  },
  {
   "cell_type": "markdown",
   "metadata": {},
   "source": [
    "The column *children* had to be dropped according to the RFE. This could have been as a result of the combined rare levels analysis that could have compromised the integrity of the feature."
   ]
  },
  {
   "cell_type": "markdown",
   "metadata": {},
   "source": [
    "# Assignment-8"
   ]
  },
  {
   "cell_type": "markdown",
   "metadata": {},
   "source": [
    "# Qn-1: Convert the target labels to their respective log values and give 2 reasons why this step may be useful as we train the machine learning model. (Explain in a markdown cell.)"
   ]
  },
  {
   "cell_type": "code",
   "execution_count": 64,
   "metadata": {},
   "outputs": [],
   "source": [
    "#Dropping column chidren\n",
    "X = df_insuarance.drop(['charges','children'], axis = 1).astype(int)\n",
    "y = df_insuarance['charges'].astype(int)"
   ]
  },
  {
   "cell_type": "code",
   "execution_count": 62,
   "metadata": {},
   "outputs": [
    {
     "data": {
      "text/plain": [
       "age       int32\n",
       "sex       int32\n",
       "bmi       int32\n",
       "smoker    int32\n",
       "region    int32\n",
       "dtype: object"
      ]
     },
     "execution_count": 62,
     "metadata": {},
     "output_type": "execute_result"
    }
   ],
   "source": [
    "X.dtypes"
   ]
  },
  {
   "cell_type": "code",
   "execution_count": 65,
   "metadata": {},
   "outputs": [
    {
     "data": {
      "text/html": [
       "<div>\n",
       "<style scoped>\n",
       "    .dataframe tbody tr th:only-of-type {\n",
       "        vertical-align: middle;\n",
       "    }\n",
       "\n",
       "    .dataframe tbody tr th {\n",
       "        vertical-align: top;\n",
       "    }\n",
       "\n",
       "    .dataframe thead th {\n",
       "        text-align: right;\n",
       "    }\n",
       "</style>\n",
       "<table border=\"1\" class=\"dataframe\">\n",
       "  <thead>\n",
       "    <tr style=\"text-align: right;\">\n",
       "      <th></th>\n",
       "      <th>age</th>\n",
       "      <th>sex</th>\n",
       "      <th>bmi</th>\n",
       "      <th>smoker</th>\n",
       "      <th>region</th>\n",
       "    </tr>\n",
       "  </thead>\n",
       "  <tbody>\n",
       "    <tr>\n",
       "      <th>count</th>\n",
       "      <td>971.000000</td>\n",
       "      <td>971.000000</td>\n",
       "      <td>971.000000</td>\n",
       "      <td>971.000000</td>\n",
       "      <td>971.000000</td>\n",
       "    </tr>\n",
       "    <tr>\n",
       "      <th>mean</th>\n",
       "      <td>39.257467</td>\n",
       "      <td>9515.127703</td>\n",
       "      <td>30.187436</td>\n",
       "      <td>12077.095778</td>\n",
       "      <td>9530.219361</td>\n",
       "    </tr>\n",
       "    <tr>\n",
       "      <th>std</th>\n",
       "      <td>14.083098</td>\n",
       "      <td>124.063835</td>\n",
       "      <td>7.137955</td>\n",
       "      <td>9040.274478</td>\n",
       "      <td>206.420930</td>\n",
       "    </tr>\n",
       "    <tr>\n",
       "      <th>min</th>\n",
       "      <td>18.000000</td>\n",
       "      <td>9391.000000</td>\n",
       "      <td>15.000000</td>\n",
       "      <td>7345.000000</td>\n",
       "      <td>9301.000000</td>\n",
       "    </tr>\n",
       "    <tr>\n",
       "      <th>25%</th>\n",
       "      <td>27.000000</td>\n",
       "      <td>9391.000000</td>\n",
       "      <td>24.000000</td>\n",
       "      <td>7345.000000</td>\n",
       "      <td>9328.000000</td>\n",
       "    </tr>\n",
       "    <tr>\n",
       "      <th>50%</th>\n",
       "      <td>39.000000</td>\n",
       "      <td>9639.000000</td>\n",
       "      <td>28.000000</td>\n",
       "      <td>7345.000000</td>\n",
       "      <td>9661.000000</td>\n",
       "    </tr>\n",
       "    <tr>\n",
       "      <th>75%</th>\n",
       "      <td>51.000000</td>\n",
       "      <td>9639.000000</td>\n",
       "      <td>36.000000</td>\n",
       "      <td>7345.000000</td>\n",
       "      <td>9768.000000</td>\n",
       "    </tr>\n",
       "    <tr>\n",
       "      <th>max</th>\n",
       "      <td>64.000000</td>\n",
       "      <td>9639.000000</td>\n",
       "      <td>53.000000</td>\n",
       "      <td>29330.000000</td>\n",
       "      <td>9768.000000</td>\n",
       "    </tr>\n",
       "  </tbody>\n",
       "</table>\n",
       "</div>"
      ],
      "text/plain": [
       "              age          sex         bmi        smoker       region\n",
       "count  971.000000   971.000000  971.000000    971.000000   971.000000\n",
       "mean    39.257467  9515.127703   30.187436  12077.095778  9530.219361\n",
       "std     14.083098   124.063835    7.137955   9040.274478   206.420930\n",
       "min     18.000000  9391.000000   15.000000   7345.000000  9301.000000\n",
       "25%     27.000000  9391.000000   24.000000   7345.000000  9328.000000\n",
       "50%     39.000000  9639.000000   28.000000   7345.000000  9661.000000\n",
       "75%     51.000000  9639.000000   36.000000   7345.000000  9768.000000\n",
       "max     64.000000  9639.000000   53.000000  29330.000000  9768.000000"
      ]
     },
     "execution_count": 65,
     "metadata": {},
     "output_type": "execute_result"
    }
   ],
   "source": [
    "X.describe()"
   ]
  },
  {
   "cell_type": "code",
   "execution_count": 66,
   "metadata": {},
   "outputs": [],
   "source": [
    "Log_charges = df_insuarance[['charges']].apply(np.log, axis = 1).round(3)"
   ]
  },
  {
   "cell_type": "code",
   "execution_count": 67,
   "metadata": {},
   "outputs": [
    {
     "data": {
      "text/html": [
       "<div>\n",
       "<style scoped>\n",
       "    .dataframe tbody tr th:only-of-type {\n",
       "        vertical-align: middle;\n",
       "    }\n",
       "\n",
       "    .dataframe tbody tr th {\n",
       "        vertical-align: top;\n",
       "    }\n",
       "\n",
       "    .dataframe thead th {\n",
       "        text-align: right;\n",
       "    }\n",
       "</style>\n",
       "<table border=\"1\" class=\"dataframe\">\n",
       "  <thead>\n",
       "    <tr style=\"text-align: right;\">\n",
       "      <th></th>\n",
       "      <th>charges</th>\n",
       "    </tr>\n",
       "  </thead>\n",
       "  <tbody>\n",
       "    <tr>\n",
       "      <th>count</th>\n",
       "      <td>971.000000</td>\n",
       "    </tr>\n",
       "    <tr>\n",
       "      <th>mean</th>\n",
       "      <td>9.102619</td>\n",
       "    </tr>\n",
       "    <tr>\n",
       "      <th>std</th>\n",
       "      <td>0.927864</td>\n",
       "    </tr>\n",
       "    <tr>\n",
       "      <th>min</th>\n",
       "      <td>7.023000</td>\n",
       "    </tr>\n",
       "    <tr>\n",
       "      <th>25%</th>\n",
       "      <td>8.467500</td>\n",
       "    </tr>\n",
       "    <tr>\n",
       "      <th>50%</th>\n",
       "      <td>9.166000</td>\n",
       "    </tr>\n",
       "    <tr>\n",
       "      <th>75%</th>\n",
       "      <td>9.746000</td>\n",
       "    </tr>\n",
       "    <tr>\n",
       "      <th>max</th>\n",
       "      <td>11.063000</td>\n",
       "    </tr>\n",
       "  </tbody>\n",
       "</table>\n",
       "</div>"
      ],
      "text/plain": [
       "          charges\n",
       "count  971.000000\n",
       "mean     9.102619\n",
       "std      0.927864\n",
       "min      7.023000\n",
       "25%      8.467500\n",
       "50%      9.166000\n",
       "75%      9.746000\n",
       "max     11.063000"
      ]
     },
     "execution_count": 67,
     "metadata": {},
     "output_type": "execute_result"
    }
   ],
   "source": [
    "Log_charges.describe()"
   ]
  },
  {
   "cell_type": "code",
   "execution_count": 68,
   "metadata": {},
   "outputs": [
    {
     "data": {
      "text/plain": [
       "count      971.000000\n",
       "mean     13357.900103\n",
       "std      12157.950610\n",
       "min       1121.000000\n",
       "25%       4757.500000\n",
       "50%       9563.000000\n",
       "75%      17083.000000\n",
       "max      63770.000000\n",
       "Name: charges, dtype: float64"
      ]
     },
     "execution_count": 68,
     "metadata": {},
     "output_type": "execute_result"
    }
   ],
   "source": [
    "y.describe()"
   ]
  },
  {
   "cell_type": "code",
   "execution_count": 123,
   "metadata": {},
   "outputs": [],
   "source": [
    "#Normalizing the features\n",
    "Log_X = df_insuarance[['age','sex','bmi','smoker','region']].apply(np.log, axis = 1).round(3)"
   ]
  },
  {
   "cell_type": "code",
   "execution_count": 70,
   "metadata": {},
   "outputs": [
    {
     "data": {
      "text/html": [
       "<div>\n",
       "<style scoped>\n",
       "    .dataframe tbody tr th:only-of-type {\n",
       "        vertical-align: middle;\n",
       "    }\n",
       "\n",
       "    .dataframe tbody tr th {\n",
       "        vertical-align: top;\n",
       "    }\n",
       "\n",
       "    .dataframe thead th {\n",
       "        text-align: right;\n",
       "    }\n",
       "</style>\n",
       "<table border=\"1\" class=\"dataframe\">\n",
       "  <thead>\n",
       "    <tr style=\"text-align: right;\">\n",
       "      <th></th>\n",
       "      <th>age</th>\n",
       "      <th>sex</th>\n",
       "      <th>bmi</th>\n",
       "      <th>smoker</th>\n",
       "      <th>region</th>\n",
       "    </tr>\n",
       "  </thead>\n",
       "  <tbody>\n",
       "    <tr>\n",
       "      <th>count</th>\n",
       "      <td>971.000000</td>\n",
       "      <td>971.000000</td>\n",
       "      <td>971.000000</td>\n",
       "      <td>971.000000</td>\n",
       "      <td>971.000000</td>\n",
       "    </tr>\n",
       "    <tr>\n",
       "      <th>mean</th>\n",
       "      <td>3.598203</td>\n",
       "      <td>9.161013</td>\n",
       "      <td>3.395851</td>\n",
       "      <td>9.199895</td>\n",
       "      <td>9.162144</td>\n",
       "    </tr>\n",
       "    <tr>\n",
       "      <th>std</th>\n",
       "      <td>0.391734</td>\n",
       "      <td>0.013007</td>\n",
       "      <td>0.236000</td>\n",
       "      <td>0.569103</td>\n",
       "      <td>0.021654</td>\n",
       "    </tr>\n",
       "    <tr>\n",
       "      <th>min</th>\n",
       "      <td>2.890000</td>\n",
       "      <td>9.148000</td>\n",
       "      <td>2.770000</td>\n",
       "      <td>8.902000</td>\n",
       "      <td>9.138000</td>\n",
       "    </tr>\n",
       "    <tr>\n",
       "      <th>25%</th>\n",
       "      <td>3.296000</td>\n",
       "      <td>9.148000</td>\n",
       "      <td>3.218000</td>\n",
       "      <td>8.902000</td>\n",
       "      <td>9.141000</td>\n",
       "    </tr>\n",
       "    <tr>\n",
       "      <th>50%</th>\n",
       "      <td>3.664000</td>\n",
       "      <td>9.174000</td>\n",
       "      <td>3.340000</td>\n",
       "      <td>8.902000</td>\n",
       "      <td>9.176000</td>\n",
       "    </tr>\n",
       "    <tr>\n",
       "      <th>75%</th>\n",
       "      <td>3.932000</td>\n",
       "      <td>9.174000</td>\n",
       "      <td>3.590500</td>\n",
       "      <td>8.902000</td>\n",
       "      <td>9.187000</td>\n",
       "    </tr>\n",
       "    <tr>\n",
       "      <th>max</th>\n",
       "      <td>4.159000</td>\n",
       "      <td>9.174000</td>\n",
       "      <td>3.973000</td>\n",
       "      <td>10.286000</td>\n",
       "      <td>9.187000</td>\n",
       "    </tr>\n",
       "  </tbody>\n",
       "</table>\n",
       "</div>"
      ],
      "text/plain": [
       "              age         sex         bmi      smoker      region\n",
       "count  971.000000  971.000000  971.000000  971.000000  971.000000\n",
       "mean     3.598203    9.161013    3.395851    9.199895    9.162144\n",
       "std      0.391734    0.013007    0.236000    0.569103    0.021654\n",
       "min      2.890000    9.148000    2.770000    8.902000    9.138000\n",
       "25%      3.296000    9.148000    3.218000    8.902000    9.141000\n",
       "50%      3.664000    9.174000    3.340000    8.902000    9.176000\n",
       "75%      3.932000    9.174000    3.590500    8.902000    9.187000\n",
       "max      4.159000    9.174000    3.973000   10.286000    9.187000"
      ]
     },
     "execution_count": 70,
     "metadata": {},
     "output_type": "execute_result"
    }
   ],
   "source": [
    "Log_X.describe()"
   ]
  },
  {
   "cell_type": "code",
   "execution_count": 71,
   "metadata": {},
   "outputs": [
    {
     "data": {
      "text/plain": [
       "age       float64\n",
       "sex       float64\n",
       "bmi       float64\n",
       "smoker    float64\n",
       "region    float64\n",
       "dtype: object"
      ]
     },
     "execution_count": 71,
     "metadata": {},
     "output_type": "execute_result"
    }
   ],
   "source": [
    "Log_X.dtypes"
   ]
  },
  {
   "cell_type": "code",
   "execution_count": 122,
   "metadata": {},
   "outputs": [
    {
     "data": {
      "text/html": [
       "<div>\n",
       "<style scoped>\n",
       "    .dataframe tbody tr th:only-of-type {\n",
       "        vertical-align: middle;\n",
       "    }\n",
       "\n",
       "    .dataframe tbody tr th {\n",
       "        vertical-align: top;\n",
       "    }\n",
       "\n",
       "    .dataframe thead th {\n",
       "        text-align: right;\n",
       "    }\n",
       "</style>\n",
       "<table border=\"1\" class=\"dataframe\">\n",
       "  <thead>\n",
       "    <tr style=\"text-align: right;\">\n",
       "      <th></th>\n",
       "      <th>age</th>\n",
       "      <th>sex</th>\n",
       "      <th>bmi</th>\n",
       "      <th>smoker</th>\n",
       "      <th>region</th>\n",
       "    </tr>\n",
       "  </thead>\n",
       "  <tbody>\n",
       "    <tr>\n",
       "      <th>count</th>\n",
       "      <td>971.000000</td>\n",
       "      <td>971.000000</td>\n",
       "      <td>971.000000</td>\n",
       "      <td>971.000000</td>\n",
       "      <td>971.000000</td>\n",
       "    </tr>\n",
       "    <tr>\n",
       "      <th>mean</th>\n",
       "      <td>39.257467</td>\n",
       "      <td>9515.127703</td>\n",
       "      <td>30.187436</td>\n",
       "      <td>12077.095778</td>\n",
       "      <td>9530.219361</td>\n",
       "    </tr>\n",
       "    <tr>\n",
       "      <th>std</th>\n",
       "      <td>14.083098</td>\n",
       "      <td>124.063835</td>\n",
       "      <td>7.137955</td>\n",
       "      <td>9040.274478</td>\n",
       "      <td>206.420930</td>\n",
       "    </tr>\n",
       "    <tr>\n",
       "      <th>min</th>\n",
       "      <td>18.000000</td>\n",
       "      <td>9391.000000</td>\n",
       "      <td>15.000000</td>\n",
       "      <td>7345.000000</td>\n",
       "      <td>9301.000000</td>\n",
       "    </tr>\n",
       "    <tr>\n",
       "      <th>25%</th>\n",
       "      <td>27.000000</td>\n",
       "      <td>9391.000000</td>\n",
       "      <td>24.000000</td>\n",
       "      <td>7345.000000</td>\n",
       "      <td>9328.000000</td>\n",
       "    </tr>\n",
       "    <tr>\n",
       "      <th>50%</th>\n",
       "      <td>39.000000</td>\n",
       "      <td>9639.000000</td>\n",
       "      <td>28.000000</td>\n",
       "      <td>7345.000000</td>\n",
       "      <td>9661.000000</td>\n",
       "    </tr>\n",
       "    <tr>\n",
       "      <th>75%</th>\n",
       "      <td>51.000000</td>\n",
       "      <td>9639.000000</td>\n",
       "      <td>36.000000</td>\n",
       "      <td>7345.000000</td>\n",
       "      <td>9768.000000</td>\n",
       "    </tr>\n",
       "    <tr>\n",
       "      <th>max</th>\n",
       "      <td>64.000000</td>\n",
       "      <td>9639.000000</td>\n",
       "      <td>53.000000</td>\n",
       "      <td>29330.000000</td>\n",
       "      <td>9768.000000</td>\n",
       "    </tr>\n",
       "  </tbody>\n",
       "</table>\n",
       "</div>"
      ],
      "text/plain": [
       "              age          sex         bmi        smoker       region\n",
       "count  971.000000   971.000000  971.000000    971.000000   971.000000\n",
       "mean    39.257467  9515.127703   30.187436  12077.095778  9530.219361\n",
       "std     14.083098   124.063835    7.137955   9040.274478   206.420930\n",
       "min     18.000000  9391.000000   15.000000   7345.000000  9301.000000\n",
       "25%     27.000000  9391.000000   24.000000   7345.000000  9328.000000\n",
       "50%     39.000000  9639.000000   28.000000   7345.000000  9661.000000\n",
       "75%     51.000000  9639.000000   36.000000   7345.000000  9768.000000\n",
       "max     64.000000  9639.000000   53.000000  29330.000000  9768.000000"
      ]
     },
     "execution_count": 122,
     "metadata": {},
     "output_type": "execute_result"
    }
   ],
   "source": [
    "X.describe()"
   ]
  },
  {
   "cell_type": "markdown",
   "metadata": {},
   "source": [
    "# Two(2) reasons why this step may be useful as we train the machine learning model."
   ]
  },
  {
   "cell_type": "markdown",
   "metadata": {},
   "source": [
    "1.It helps to handle skewed data and after transformation, the distribution becomes more approximate to normal.\n",
    "\n",
    "2.It also decreases the effect of the outliers, due to the normalization of magnitude differences and the model becomes more robust."
   ]
  },
  {
   "cell_type": "markdown",
   "metadata": {},
   "source": [
    "# Qn-2: Slice the selected feature columns and the labels into the training and testing set. Also ensure your features are normalized."
   ]
  },
  {
   "cell_type": "code",
   "execution_count": 76,
   "metadata": {},
   "outputs": [],
   "source": [
    "from sklearn.model_selection import train_test_split\n",
    "from sklearn.preprocessing import StandardScaler\n",
    "X_train, X_test, Y_train, Y_test = train_test_split(Log_X,Log_charges, test_size=0.2)\n",
    "scaler = StandardScaler()\n",
    "X_train = scaler.fit_transform(X_train).astype(int)\n",
    "X_test = scaler.transform(X_test).astype(int)\n",
    "Y_train = scaler.fit_transform(Y_train).astype(int)\n",
    "Y_test = scaler.transform(Y_test).astype(int)"
   ]
  },
  {
   "cell_type": "code",
   "execution_count": 131,
   "metadata": {},
   "outputs": [
    {
     "data": {
      "text/plain": [
       "971"
      ]
     },
     "execution_count": 131,
     "metadata": {},
     "output_type": "execute_result"
    }
   ],
   "source": [
    "#len(X_test) # 195\n",
    "len(X_train) # 776\n",
    "len(df_insuarance)#971"
   ]
  },
  {
   "cell_type": "markdown",
   "metadata": {},
   "source": [
    "# Qn-3:Use at least 4 different regression based machine learning methods and use the training and testing cross accuracy and divergence to identify the best model.\n",
    "\n"
   ]
  },
  {
   "cell_type": "code",
   "execution_count": 140,
   "metadata": {},
   "outputs": [],
   "source": [
    "#using LogisticRegression(),KNeighborsClassifier(),SVC() and \n",
    "from sklearn.linear_model import LinearRegression\n",
    "classifiers = {\n",
    "    \"LogisiticRegression\": LogisticRegression(),\n",
    "    \"KNeighbors\" : KNeighborsClassifier(),\n",
    "    \"DecisionTreeClassifier\": DecisionTreeClassifier(),\n",
    "    \"RandomForest\" : RandomForestClassifier()\n",
    "}"
   ]
  },
  {
   "cell_type": "markdown",
   "metadata": {},
   "source": [
    "# The training cross accuracy and divergence"
   ]
  },
  {
   "cell_type": "code",
   "execution_count": 141,
   "metadata": {},
   "outputs": [
    {
     "name": "stdout",
     "output_type": "stream",
     "text": [
      "Classifiers:  LogisticRegression Has a training score of 82.22 % accuracy score\n",
      "Classifiers:  KNeighborsClassifier Has a training score of 78.10000000000001 % accuracy score\n",
      "Classifiers:  DecisionTreeClassifier Has a training score of 78.22 % accuracy score\n",
      "Classifiers:  RandomForestClassifier Has a training score of 78.48 % accuracy score\n"
     ]
    }
   ],
   "source": [
    "from sklearn.model_selection import cross_val_score\n",
    "for key, classifier in classifiers.items():\n",
    "    classifier.fit(X_train, Y_train)\n",
    "    training_score = cross_val_score(classifier, X_train, Y_train, cv=5)\n",
    "    print(\"Classifiers: \", classifier.__class__.__name__, \"Has a training score of\", round(training_score.mean(), 4) * 100, \"% accuracy score\")"
   ]
  },
  {
   "cell_type": "markdown",
   "metadata": {},
   "source": [
    "# The test cross accuracy and divergence"
   ]
  },
  {
   "cell_type": "code",
   "execution_count": 142,
   "metadata": {},
   "outputs": [
    {
     "name": "stdout",
     "output_type": "stream",
     "text": [
      "Classifiers:  LogisticRegression Has a testing score of 85.64 % accuracy score\n",
      "Classifiers:  KNeighborsClassifier Has a testing score of 81.03 % accuracy score\n",
      "Classifiers:  DecisionTreeClassifier Has a testing score of 83.08 % accuracy score\n",
      "Classifiers:  RandomForestClassifier Has a testing score of 84.1 % accuracy score\n"
     ]
    }
   ],
   "source": [
    "from sklearn.model_selection import cross_val_score\n",
    "for key, classifier in classifiers.items():\n",
    "    classifier.fit(X_test, Y_test)\n",
    "    testing_score = cross_val_score(classifier, X_test, Y_test, cv=5)\n",
    "    print(\"Classifiers: \", classifier.__class__.__name__, \"Has a testing score of\", round(testing_score.mean(), 4) * 100, \"% accuracy score\")"
   ]
  },
  {
   "cell_type": "markdown",
   "metadata": {},
   "source": [
    "# The best model."
   ]
  },
  {
   "cell_type": "markdown",
   "metadata": {},
   "source": [
    "The best machine learning method based on the training and test scores is Logistic Regression Classifier"
   ]
  },
  {
   "cell_type": "markdown",
   "metadata": {},
   "source": [
    "# Qn-4: After identifying the best model, train it with the training data again. Using at least 3 model evaluation metrics in regression, evaluate the models training and testing score. Also ensure as you test the models, the predicted and actual targets have been converted back to the original values using antilog. (Hint: Antilog function is equal to Exponential)"
   ]
  },
  {
   "cell_type": "code",
   "execution_count": 199,
   "metadata": {},
   "outputs": [
    {
     "name": "stdout",
     "output_type": "stream",
     "text": [
      "0.8235\n"
     ]
    }
   ],
   "source": [
    "model = LogisticRegression()\n",
    "model.fit(X_train,Y_train)\n",
    "train_scorerf = round(model.score(X_train,Y_train),4)\n",
    "print(train_scorerf)"
   ]
  },
  {
   "cell_type": "code",
   "execution_count": 166,
   "metadata": {},
   "outputs": [],
   "source": [
    "from sklearn.model_selection import GridSearchCV\n",
    "\n",
    "#Getting the best Logistic Regression\n",
    "model = LogisticRegression()\n",
    "model_params = {\"penalty\": ['l2'], \"C\": [0.001, 0.01, 0.1, 1, 10, 100, 1000],\n",
    "                  \"solver\": ['newton-cg', 'lbfgs', 'liblinear', 'sag', 'saga']}\n",
    "grid_logistic = GridSearchCV(model, model_params)\n",
    "grid_logistic.fit(X_train, Y_train)\n",
    "model_best = grid_logistic.best_estimator_"
   ]
  },
  {
   "cell_type": "code",
   "execution_count": 167,
   "metadata": {},
   "outputs": [],
   "source": [
    "model = model_best"
   ]
  },
  {
   "cell_type": "markdown",
   "metadata": {},
   "source": [
    "# Using accuracy,accuracy score,cross validation score, classification report and confusion matrix to evaluate the models testing score."
   ]
  },
  {
   "cell_type": "code",
   "execution_count": 168,
   "metadata": {},
   "outputs": [
    {
     "data": {
      "text/plain": [
       "0.8666666666666667"
      ]
     },
     "execution_count": 168,
     "metadata": {},
     "output_type": "execute_result"
    }
   ],
   "source": [
    "#Using Accuracy Score\n",
    "Y_pred=model.predict(X_test)\n",
    "accuracy=accuracy_score(Y_test,Y_pred)\n",
    "accuracy"
   ]
  },
  {
   "cell_type": "code",
   "execution_count": 169,
   "metadata": {},
   "outputs": [
    {
     "data": {
      "text/plain": [
       "0.8666666666666667"
      ]
     },
     "execution_count": 169,
     "metadata": {},
     "output_type": "execute_result"
    }
   ],
   "source": [
    "#Using Accuracy/ model score\n",
    "model.score(X_test, Y_test)"
   ]
  },
  {
   "cell_type": "code",
   "execution_count": 172,
   "metadata": {},
   "outputs": [
    {
     "data": {
      "text/plain": [
       "array([0.82051282, 0.8974359 , 0.92307692, 0.76923077, 0.87179487])"
      ]
     },
     "execution_count": 172,
     "metadata": {},
     "output_type": "execute_result"
    }
   ],
   "source": [
    "#Using Cross validation Score\n",
    "cross_val_score(model, X_test, Y_test)"
   ]
  },
  {
   "cell_type": "code",
   "execution_count": null,
   "metadata": {},
   "outputs": [],
   "source": []
  },
  {
   "cell_type": "code",
   "execution_count": null,
   "metadata": {},
   "outputs": [],
   "source": []
  },
  {
   "cell_type": "code",
   "execution_count": 218,
   "metadata": {},
   "outputs": [
    {
     "name": "stdout",
     "output_type": "stream",
     "text": [
      "confussion matrix\n",
      "[[  0   1   0   0   0]\n",
      " [  0  20   7   0   0]\n",
      " [  0   3 126   2   0]\n",
      " [  0   0  12  23   0]\n",
      " [  0   0   0   1   0]]\n",
      "\n",
      "\n",
      "Accuracy of Logistic Regression: 86.66666666666667 \n",
      "\n"
     ]
    }
   ],
   "source": [
    "#Using Confusion Matrix\n",
    "from sklearn.metrics import confusion_matrix\n",
    "\n",
    "#y_preds = lr_best.predict(X_test)\n",
    "cm_lr = confusion_matrix(Y_test, Ytest_pred)\n",
    "lr_acc_score = accuracy_score(Y_test, Ytest_pred)\n",
    "print(\"confussion matrix\")\n",
    "print(cm_lr)\n",
    "print(\"\\n\")\n",
    "print(\"Accuracy of Logistic Regression:\",lr_acc_score*100,'\\n')"
   ]
  },
  {
   "cell_type": "code",
   "execution_count": 177,
   "metadata": {},
   "outputs": [
    {
     "data": {
      "image/png": "[encoded data removed]",
      "text/plain": [
       "<Figure size 216x216 with 1 Axes>"
      ]
     },
     "metadata": {
      "needs_background": "light"
     },
     "output_type": "display_data"
    }
   ],
   "source": [
    "import seaborn as sns \n",
    "def plot_conf_mat(conf_mat):\n",
    "    \"\"\"\n",
    "    Plots a confusion matrix using Seaborn's heatmap().\n",
    "    \"\"\"\n",
    "    fig, ax = plt.subplots(figsize=(3, 3))\n",
    "    ax = sns.heatmap(conf_mat,\n",
    "                     annot=True, # Annotate the boxes \n",
    "                     cbar=False)\n",
    "    plt.xlabel('Predicted label')\n",
    "    plt.ylabel('True label');\n",
    "\n",
    "conf_mat=confusion_matrix(Y_test, Ytest_pred)\n",
    "\n",
    "plot_conf_mat(conf_mat)"
   ]
  },
  {
   "cell_type": "code",
   "execution_count": 175,
   "metadata": {},
   "outputs": [
    {
     "name": "stdout",
     "output_type": "stream",
     "text": [
      "Classification Report\n",
      "              precision    recall  f1-score   support\n",
      "\n",
      "          -2       0.00      0.00      0.00         1\n",
      "          -1       0.83      0.74      0.78        27\n",
      "           0       0.87      0.96      0.91       131\n",
      "           1       0.88      0.66      0.75        35\n",
      "           2       0.00      0.00      0.00         1\n",
      "\n",
      "    accuracy                           0.87       195\n",
      "   macro avg       0.52      0.47      0.49       195\n",
      "weighted avg       0.86      0.87      0.86       195\n",
      "\n"
     ]
    }
   ],
   "source": [
    "#Using Classification Report\n",
    "from sklearn.metrics import classification_report\n",
    "print(\"Classification Report\")\n",
    "print(classification_report(Y_test, Ytest_pred))"
   ]
  },
  {
   "cell_type": "markdown",
   "metadata": {},
   "source": [
    "# Also ensure as you test the models, the predicted and actual targets have been converted back to the original values using antilog. (Hint: Antilog function is equal to Exponential)"
   ]
  },
  {
   "cell_type": "code",
   "execution_count": null,
   "metadata": {},
   "outputs": [],
   "source": []
  },
  {
   "cell_type": "code",
   "execution_count": null,
   "metadata": {},
   "outputs": [],
   "source": []
  },
  {
   "cell_type": "code",
   "execution_count": 178,
   "metadata": {},
   "outputs": [],
   "source": [
    "#Coverting Log_X features to Anti Log\n",
    "AntiLog_X = Log_X[['age','sex','bmi','smoker','region']].apply(np.exp, axis = 1).round(3).astype(int)"
   ]
  },
  {
   "cell_type": "code",
   "execution_count": 179,
   "metadata": {},
   "outputs": [
    {
     "data": {
      "text/html": [
       "<div>\n",
       "<style scoped>\n",
       "    .dataframe tbody tr th:only-of-type {\n",
       "        vertical-align: middle;\n",
       "    }\n",
       "\n",
       "    .dataframe tbody tr th {\n",
       "        vertical-align: top;\n",
       "    }\n",
       "\n",
       "    .dataframe thead th {\n",
       "        text-align: right;\n",
       "    }\n",
       "</style>\n",
       "<table border=\"1\" class=\"dataframe\">\n",
       "  <thead>\n",
       "    <tr style=\"text-align: right;\">\n",
       "      <th></th>\n",
       "      <th>age</th>\n",
       "      <th>sex</th>\n",
       "      <th>bmi</th>\n",
       "      <th>smoker</th>\n",
       "      <th>region</th>\n",
       "    </tr>\n",
       "  </thead>\n",
       "  <tbody>\n",
       "    <tr>\n",
       "      <th>count</th>\n",
       "      <td>971.000000</td>\n",
       "      <td>971.000000</td>\n",
       "      <td>971.000000</td>\n",
       "      <td>971.000000</td>\n",
       "      <td>971.000000</td>\n",
       "    </tr>\n",
       "    <tr>\n",
       "      <th>mean</th>\n",
       "      <td>38.688980</td>\n",
       "      <td>9519.127703</td>\n",
       "      <td>30.180227</td>\n",
       "      <td>12075.512873</td>\n",
       "      <td>9531.456231</td>\n",
       "    </tr>\n",
       "    <tr>\n",
       "      <th>std</th>\n",
       "      <td>14.130689</td>\n",
       "      <td>124.063835</td>\n",
       "      <td>7.140812</td>\n",
       "      <td>9035.340055</td>\n",
       "      <td>206.188951</td>\n",
       "    </tr>\n",
       "    <tr>\n",
       "      <th>min</th>\n",
       "      <td>17.000000</td>\n",
       "      <td>9395.000000</td>\n",
       "      <td>15.000000</td>\n",
       "      <td>7346.000000</td>\n",
       "      <td>9302.000000</td>\n",
       "    </tr>\n",
       "    <tr>\n",
       "      <th>25%</th>\n",
       "      <td>27.000000</td>\n",
       "      <td>9395.000000</td>\n",
       "      <td>24.000000</td>\n",
       "      <td>7346.000000</td>\n",
       "      <td>9330.000000</td>\n",
       "    </tr>\n",
       "    <tr>\n",
       "      <th>50%</th>\n",
       "      <td>39.000000</td>\n",
       "      <td>9643.000000</td>\n",
       "      <td>28.000000</td>\n",
       "      <td>7346.000000</td>\n",
       "      <td>9662.000000</td>\n",
       "    </tr>\n",
       "    <tr>\n",
       "      <th>75%</th>\n",
       "      <td>51.000000</td>\n",
       "      <td>9643.000000</td>\n",
       "      <td>36.000000</td>\n",
       "      <td>7346.000000</td>\n",
       "      <td>9769.000000</td>\n",
       "    </tr>\n",
       "    <tr>\n",
       "      <th>max</th>\n",
       "      <td>64.000000</td>\n",
       "      <td>9643.000000</td>\n",
       "      <td>53.000000</td>\n",
       "      <td>29319.000000</td>\n",
       "      <td>9769.000000</td>\n",
       "    </tr>\n",
       "  </tbody>\n",
       "</table>\n",
       "</div>"
      ],
      "text/plain": [
       "              age          sex         bmi        smoker       region\n",
       "count  971.000000   971.000000  971.000000    971.000000   971.000000\n",
       "mean    38.688980  9519.127703   30.180227  12075.512873  9531.456231\n",
       "std     14.130689   124.063835    7.140812   9035.340055   206.188951\n",
       "min     17.000000  9395.000000   15.000000   7346.000000  9302.000000\n",
       "25%     27.000000  9395.000000   24.000000   7346.000000  9330.000000\n",
       "50%     39.000000  9643.000000   28.000000   7346.000000  9662.000000\n",
       "75%     51.000000  9643.000000   36.000000   7346.000000  9769.000000\n",
       "max     64.000000  9643.000000   53.000000  29319.000000  9769.000000"
      ]
     },
     "execution_count": 179,
     "metadata": {},
     "output_type": "execute_result"
    }
   ],
   "source": [
    "AntiLog_X.describe()"
   ]
  },
  {
   "cell_type": "code",
   "execution_count": 157,
   "metadata": {},
   "outputs": [
    {
     "data": {
      "text/plain": [
       "age       int32\n",
       "sex       int32\n",
       "bmi       int32\n",
       "smoker    int32\n",
       "region    int32\n",
       "dtype: object"
      ]
     },
     "execution_count": 157,
     "metadata": {},
     "output_type": "execute_result"
    }
   ],
   "source": [
    "AntiLog_X.dtypes"
   ]
  },
  {
   "cell_type": "code",
   "execution_count": 180,
   "metadata": {},
   "outputs": [],
   "source": [
    "#Coverting Target Label to AntiLog \n",
    "AntiLog_charges = Log_charges[['charges']].apply(np.exp, axis = 1).round(3).astype(int)"
   ]
  },
  {
   "cell_type": "code",
   "execution_count": 181,
   "metadata": {},
   "outputs": [
    {
     "data": {
      "text/html": [
       "<div>\n",
       "<style scoped>\n",
       "    .dataframe tbody tr th:only-of-type {\n",
       "        vertical-align: middle;\n",
       "    }\n",
       "\n",
       "    .dataframe tbody tr th {\n",
       "        vertical-align: top;\n",
       "    }\n",
       "\n",
       "    .dataframe thead th {\n",
       "        text-align: right;\n",
       "    }\n",
       "</style>\n",
       "<table border=\"1\" class=\"dataframe\">\n",
       "  <thead>\n",
       "    <tr style=\"text-align: right;\">\n",
       "      <th></th>\n",
       "      <th>charges</th>\n",
       "    </tr>\n",
       "  </thead>\n",
       "  <tbody>\n",
       "    <tr>\n",
       "      <th>count</th>\n",
       "      <td>971.000000</td>\n",
       "    </tr>\n",
       "    <tr>\n",
       "      <th>mean</th>\n",
       "      <td>13357.770340</td>\n",
       "    </tr>\n",
       "    <tr>\n",
       "      <th>std</th>\n",
       "      <td>12157.897687</td>\n",
       "    </tr>\n",
       "    <tr>\n",
       "      <th>min</th>\n",
       "      <td>1122.000000</td>\n",
       "    </tr>\n",
       "    <tr>\n",
       "      <th>25%</th>\n",
       "      <td>4757.000000</td>\n",
       "    </tr>\n",
       "    <tr>\n",
       "      <th>50%</th>\n",
       "      <td>9566.000000</td>\n",
       "    </tr>\n",
       "    <tr>\n",
       "      <th>75%</th>\n",
       "      <td>17085.000000</td>\n",
       "    </tr>\n",
       "    <tr>\n",
       "      <th>max</th>\n",
       "      <td>63767.000000</td>\n",
       "    </tr>\n",
       "  </tbody>\n",
       "</table>\n",
       "</div>"
      ],
      "text/plain": [
       "            charges\n",
       "count    971.000000\n",
       "mean   13357.770340\n",
       "std    12157.897687\n",
       "min     1122.000000\n",
       "25%     4757.000000\n",
       "50%     9566.000000\n",
       "75%    17085.000000\n",
       "max    63767.000000"
      ]
     },
     "execution_count": 181,
     "metadata": {},
     "output_type": "execute_result"
    }
   ],
   "source": [
    "AntiLog_charges.describe()"
   ]
  },
  {
   "cell_type": "code",
   "execution_count": 182,
   "metadata": {},
   "outputs": [],
   "source": [
    "A_train, A_test, B_train, B_test = train_test_split(AntiLog_X,AntiLog_charges, test_size=0.2)\n",
    "scaler = StandardScaler()\n",
    "A_train = scaler.fit_transform(A_train).astype(int)\n",
    "A_test = scaler.transform(A_test).astype(int)\n",
    "B_train = scaler.fit_transform(B_train).astype(int)\n",
    "B_test = scaler.transform(B_test).astype(int)"
   ]
  },
  {
   "cell_type": "code",
   "execution_count": 187,
   "metadata": {},
   "outputs": [
    {
     "data": {
      "text/plain": [
       "0.9025641025641026"
      ]
     },
     "execution_count": 187,
     "metadata": {},
     "output_type": "execute_result"
    }
   ],
   "source": [
    "#Using Accuracy Score\n",
    "B_pred=model.predict(A_test)\n",
    "accuracy=accuracy_score(B_test,B_pred)\n",
    "accuracy"
   ]
  },
  {
   "cell_type": "code",
   "execution_count": 188,
   "metadata": {},
   "outputs": [
    {
     "data": {
      "text/plain": [
       "0.9025641025641026"
      ]
     },
     "execution_count": 188,
     "metadata": {},
     "output_type": "execute_result"
    }
   ],
   "source": [
    "#Using Accuracy/ model score\n",
    "model.score(A_test, B_test)"
   ]
  },
  {
   "cell_type": "code",
   "execution_count": 189,
   "metadata": {},
   "outputs": [
    {
     "data": {
      "text/plain": [
       "array([0.8974359 , 0.8974359 , 0.87179487, 0.87179487, 0.8974359 ])"
      ]
     },
     "execution_count": 189,
     "metadata": {},
     "output_type": "execute_result"
    }
   ],
   "source": [
    "#Using Cross validation Score\n",
    "cross_val_score(model, A_test, B_test)"
   ]
  },
  {
   "cell_type": "code",
   "execution_count": 217,
   "metadata": {},
   "outputs": [
    {
     "name": "stdout",
     "output_type": "stream",
     "text": [
      "confussion matrix\n",
      "[[  0   1   0   0   0]\n",
      " [  0 166   0   1   0]\n",
      " [  0   8   0   3   0]\n",
      " [  0   5   0  10   0]\n",
      " [  0   1   0   0   0]]\n",
      "\n",
      "\n",
      "Accuracy of Logistic Regression: 90.25641025641026 \n",
      "\n"
     ]
    }
   ],
   "source": [
    "#Using Confusion Matrix\n",
    "from sklearn.metrics import confusion_matrix\n",
    "\n",
    "#y_preds = lr_best.predict(X_test)\n",
    "cm_lr = confusion_matrix(B_test, Btest_pred)\n",
    "lr_acc_score = accuracy_score(B_test, Btest_pred)\n",
    "print(\"confussion matrix\")\n",
    "print(cm_lr)\n",
    "print(\"\\n\")\n",
    "print(\"Accuracy of Logistic Regression:\",lr_acc_score*100,'\\n')"
   ]
  },
  {
   "cell_type": "code",
   "execution_count": 194,
   "metadata": {},
   "outputs": [
    {
     "data": {
      "image/png": "[encoded data removed]",
      "text/plain": [
       "<Figure size 216x216 with 1 Axes>"
      ]
     },
     "metadata": {
      "needs_background": "light"
     },
     "output_type": "display_data"
    }
   ],
   "source": [
    "import seaborn as sns \n",
    "def plot_conf_mat(conf_mat):\n",
    "    \"\"\"\n",
    "    Plots a confusion matrix using Seaborn's heatmap().\n",
    "    \"\"\"\n",
    "    fig, ax = plt.subplots(figsize=(3, 3))\n",
    "    ax = sns.heatmap(conf_mat,\n",
    "                     annot=True, # Annotate the boxes \n",
    "                     cbar=False)\n",
    "    plt.xlabel('Predicted label')\n",
    "    plt.ylabel('True label');\n",
    "\n",
    "conf_mat=confusion_matrix(B_test, Btest_pred)\n",
    "\n",
    "plot_conf_mat(conf_mat)"
   ]
  },
  {
   "cell_type": "code",
   "execution_count": 196,
   "metadata": {},
   "outputs": [
    {
     "name": "stdout",
     "output_type": "stream",
     "text": [
      "Classification Report\n",
      "              precision    recall  f1-score   support\n",
      "\n",
      "          -1       0.00      0.00      0.00         1\n",
      "           0       0.92      0.99      0.95       167\n",
      "           1       0.00      0.00      0.00        11\n",
      "           2       0.71      0.67      0.69        15\n",
      "           3       0.00      0.00      0.00         1\n",
      "\n",
      "    accuracy                           0.90       195\n",
      "   macro avg       0.33      0.33      0.33       195\n",
      "weighted avg       0.84      0.90      0.87       195\n",
      "\n"
     ]
    }
   ],
   "source": [
    "#Using Classification Report\n",
    "from sklearn.metrics import classification_report\n",
    "print(\"Classification Report\")\n",
    "print(classification_report(B_test, Btest_pred))"
   ]
  },
  {
   "cell_type": "markdown",
   "metadata": {},
   "source": [
    "# Using accuracy,accuracy score,cross validation score, classification report and confusion matrix to evaluate the models training Score score."
   ]
  },
  {
   "cell_type": "code",
   "execution_count": 205,
   "metadata": {},
   "outputs": [
    {
     "data": {
      "text/plain": [
       "0.6404639175257731"
      ]
     },
     "execution_count": 205,
     "metadata": {},
     "output_type": "execute_result"
    }
   ],
   "source": [
    "#Using Accuracy Score\n",
    "model = model_best\n",
    "Ytrain_pred=model.predict(X_train)\n",
    "accuracy=accuracy_score(Y_train,Y_pred)\n",
    "accuracy"
   ]
  },
  {
   "cell_type": "code",
   "execution_count": 206,
   "metadata": {},
   "outputs": [
    {
     "data": {
      "text/plain": [
       "0.6404639175257731"
      ]
     },
     "execution_count": 206,
     "metadata": {},
     "output_type": "execute_result"
    }
   ],
   "source": [
    "#Using Accuracy/ model score\n",
    "model.score(X_train, Y_train)"
   ]
  },
  {
   "cell_type": "code",
   "execution_count": 207,
   "metadata": {},
   "outputs": [
    {
     "data": {
      "text/plain": [
       "array([0.82051282, 0.81935484, 0.84516129, 0.78709677, 0.83870968])"
      ]
     },
     "execution_count": 207,
     "metadata": {},
     "output_type": "execute_result"
    }
   ],
   "source": [
    "#Using Cross validation Score\n",
    "cross_val_score(model, X_train, Y_train)"
   ]
  },
  {
   "cell_type": "code",
   "execution_count": 208,
   "metadata": {},
   "outputs": [
    {
     "name": "stdout",
     "output_type": "stream",
     "text": [
      "confussion matrix\n",
      "[[  0   0  15   0   0]\n",
      " [  0   0 129   0   0]\n",
      " [  0   0 496   0   7]\n",
      " [  0   0  73   0  54]\n",
      " [  0   0   1   0   1]]\n",
      "\n",
      "\n",
      "Accuracy of Linear Regression: 64.0463917525773 \n",
      "\n"
     ]
    }
   ],
   "source": [
    "#Using Confusion Matrix\n",
    "from sklearn.metrics import confusion_matrix\n",
    "\n",
    "#y_preds = lr_best.predict(X_test)\n",
    "cm_lr = confusion_matrix(Y_train, Ytrain_pred)\n",
    "lr_acc_score = accuracy_score(Y_train, Ytrain_pred)\n",
    "print(\"confussion matrix\")\n",
    "print(cm_lr)\n",
    "print(\"\\n\")\n",
    "print(\"Accuracy of Linear Regression:\",lr_acc_score*100,'\\n')"
   ]
  },
  {
   "cell_type": "code",
   "execution_count": 209,
   "metadata": {},
   "outputs": [
    {
     "data": {
      "image/png": "[encoded data removed]",
      "text/plain": [
       "<Figure size 216x216 with 1 Axes>"
      ]
     },
     "metadata": {
      "needs_background": "light"
     },
     "output_type": "display_data"
    }
   ],
   "source": [
    "import seaborn as sns \n",
    "def plot_conf_mat(conf_mat):\n",
    "    \"\"\"\n",
    "    Plots a confusion matrix using Seaborn's heatmap().\n",
    "    \"\"\"\n",
    "    fig, ax = plt.subplots(figsize=(3, 3))\n",
    "    ax = sns.heatmap(conf_mat,\n",
    "                     annot=True, # Annotate the boxes \n",
    "                     cbar=False)\n",
    "    plt.xlabel('Predicted label')\n",
    "    plt.ylabel('True label');\n",
    "\n",
    "conf_mat=confusion_matrix(Y_train, Ytrain_pred)\n",
    "\n",
    "plot_conf_mat(conf_mat)"
   ]
  },
  {
   "cell_type": "code",
   "execution_count": 210,
   "metadata": {},
   "outputs": [
    {
     "name": "stdout",
     "output_type": "stream",
     "text": [
      "Classification Report\n",
      "              precision    recall  f1-score   support\n",
      "\n",
      "          -2       0.00      0.00      0.00        15\n",
      "          -1       0.00      0.00      0.00       129\n",
      "           0       0.69      0.99      0.82       503\n",
      "           1       0.00      0.00      0.00       127\n",
      "           2       0.02      0.50      0.03         2\n",
      "\n",
      "    accuracy                           0.64       776\n",
      "   macro avg       0.14      0.30      0.17       776\n",
      "weighted avg       0.45      0.64      0.53       776\n",
      "\n"
     ]
    }
   ],
   "source": [
    "#Using Classification Report\n",
    "from sklearn.metrics import classification_report\n",
    "print(\"Classification Report\")\n",
    "print(classification_report(Y_train, Ytrain_pred))"
   ]
  },
  {
   "cell_type": "markdown",
   "metadata": {},
   "source": [
    "# Also ensure as you test the models, the predicted and actual targets have been converted back to the original values using antilog. (Hint: Antilog function is equal to Exponential)"
   ]
  },
  {
   "cell_type": "code",
   "execution_count": 213,
   "metadata": {},
   "outputs": [
    {
     "data": {
      "text/plain": [
       "0.8853092783505154"
      ]
     },
     "execution_count": 213,
     "metadata": {},
     "output_type": "execute_result"
    }
   ],
   "source": [
    "#Using Accuracy Score\n",
    "Btrain_pred=model.predict(A_train)\n",
    "accuracy=accuracy_score(B_train,Btrain_pred)\n",
    "accuracy"
   ]
  },
  {
   "cell_type": "code",
   "execution_count": 214,
   "metadata": {},
   "outputs": [
    {
     "data": {
      "text/plain": [
       "0.8853092783505154"
      ]
     },
     "execution_count": 214,
     "metadata": {},
     "output_type": "execute_result"
    }
   ],
   "source": [
    "#Using Accuracy/ model score\n",
    "model.score(A_train, B_train)"
   ]
  },
  {
   "cell_type": "code",
   "execution_count": 215,
   "metadata": {},
   "outputs": [
    {
     "data": {
      "text/plain": [
       "array([0.87820513, 0.88387097, 0.88387097, 0.87741935, 0.88387097])"
      ]
     },
     "execution_count": 215,
     "metadata": {},
     "output_type": "execute_result"
    }
   ],
   "source": [
    "#Using Cross validation Score\n",
    "cross_val_score(model, A_train, B_train)"
   ]
  },
  {
   "cell_type": "code",
   "execution_count": 216,
   "metadata": {},
   "outputs": [
    {
     "name": "stdout",
     "output_type": "stream",
     "text": [
      "confussion matrix\n",
      "[[  0  11   0   0   0   0]\n",
      " [  0 647   0   8   0   0]\n",
      " [  0  39   0   7   0   0]\n",
      " [  0  20   0  40   0   0]\n",
      " [  0   2   0   1   0   0]\n",
      " [  0   0   0   1   0   0]]\n",
      "\n",
      "\n",
      "Accuracy of Logistic Regression: 88.53092783505154 \n",
      "\n"
     ]
    }
   ],
   "source": [
    "#Using Confusion Matrix\n",
    "from sklearn.metrics import confusion_matrix\n",
    "\n",
    "#y_preds = lr_best.predict(X_test)\n",
    "cm_lr = confusion_matrix(B_train, Btrain_pred)\n",
    "lr_acc_score = accuracy_score(B_train, Btrain_pred)\n",
    "print(\"confussion matrix\")\n",
    "print(cm_lr)\n",
    "print(\"\\n\")\n",
    "print(\"Accuracy of Logistic Regression:\",lr_acc_score*100,'\\n')"
   ]
  },
  {
   "cell_type": "code",
   "execution_count": 219,
   "metadata": {},
   "outputs": [
    {
     "data": {
      "image/png": "[encoded data removed]",
      "text/plain": [
       "<Figure size 216x216 with 1 Axes>"
      ]
     },
     "metadata": {
      "needs_background": "light"
     },
     "output_type": "display_data"
    }
   ],
   "source": [
    "import seaborn as sns \n",
    "def plot_conf_mat(conf_mat):\n",
    "    \"\"\"\n",
    "    Plots a confusion matrix using Seaborn's heatmap().\n",
    "    \"\"\"\n",
    "    fig, ax = plt.subplots(figsize=(3, 3))\n",
    "    ax = sns.heatmap(conf_mat,\n",
    "                     annot=True, # Annotate the boxes \n",
    "                     cbar=False)\n",
    "    plt.xlabel('Predicted label')\n",
    "    plt.ylabel('True label');\n",
    "\n",
    "conf_mat=confusion_matrix(B_train, Btrain_pred)\n",
    "\n",
    "plot_conf_mat(conf_mat)"
   ]
  },
  {
   "cell_type": "code",
   "execution_count": 220,
   "metadata": {},
   "outputs": [
    {
     "name": "stdout",
     "output_type": "stream",
     "text": [
      "Classification Report\n",
      "              precision    recall  f1-score   support\n",
      "\n",
      "          -1       0.00      0.00      0.00        11\n",
      "           0       0.90      0.99      0.94       655\n",
      "           1       0.00      0.00      0.00        46\n",
      "           2       0.70      0.67      0.68        60\n",
      "           3       0.00      0.00      0.00         3\n",
      "           4       0.00      0.00      0.00         1\n",
      "\n",
      "    accuracy                           0.89       776\n",
      "   macro avg       0.27      0.28      0.27       776\n",
      "weighted avg       0.81      0.89      0.85       776\n",
      "\n"
     ]
    }
   ],
   "source": [
    "#Using Classification Report\n",
    "from sklearn.metrics import classification_report\n",
    "print(\"Classification Report\")\n",
    "print(classification_report(B_train, Btrain_pred))"
   ]
  },
  {
   "cell_type": "code",
   "execution_count": null,
   "metadata": {},
   "outputs": [],
   "source": []
  }
 ],
 "metadata": {
  "kernelspec": {
   "display_name": "Python 3",
   "language": "python",
   "name": "python3"
  },
  "language_info": {
   "codemirror_mode": {
    "name": "ipython",
    "version": 3
   },
   "file_extension": ".py",
   "mimetype": "text/x-python",
   "name": "python",
   "nbconvert_exporter": "python",
   "pygments_lexer": "ipython3",
   "version": "3.8.5"
  }
 },
 "nbformat": 4,
 "nbformat_minor": 4
}
